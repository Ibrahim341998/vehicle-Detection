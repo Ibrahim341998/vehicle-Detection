{
  "nbformat": 4,
  "nbformat_minor": 0,
  "metadata": {
    "colab": {
      "name": "Vehicle detection.ipynb",
      "provenance": [],
      "authorship_tag": "ABX9TyPdhqkyY8JIt/B3E9kRT8ro",
      "include_colab_link": true
    },
    "kernelspec": {
      "name": "python3",
      "display_name": "Python 3"
    },
    "language_info": {
      "name": "python"
    }
  },
  "cells": [
    {
      "cell_type": "markdown",
      "metadata": {
        "id": "view-in-github",
        "colab_type": "text"
      },
      "source": [
        "<a href=\"https://colab.research.google.com/github/Ibrahim341998/vehicle-Detection/blob/main/Vehicle_detection.ipynb\" target=\"_parent\"><img src=\"https://colab.research.google.com/assets/colab-badge.svg\" alt=\"Open In Colab\"/></a>"
      ]
    },
    {
      "cell_type": "code",
      "execution_count": 13,
      "metadata": {
        "id": "z-XIB3BsiXBd"
      },
      "outputs": [],
      "source": [
        "import cv2\n",
        "import numpy as np\n",
        "import matplotlib.pyplot as plt\n",
        "%matplotlib inline"
      ]
    },
    {
      "cell_type": "code",
      "source": [
        "cap = cv2.VideoCapture('content/carsvid2.avi')\n",
        "#cap = cv2.VideoCapture(1)\n",
        "backgroundobject = cv2.createBackgroundSubtractorMOG2(history = 2, detectShadows = True)\n",
        "\n",
        "while(1):\n",
        "  ret, frame = cap.read()\n",
        "  if not ret:\n",
        "    break\n",
        "  \n",
        "  fgmask = backgroundobject.apply(frame)\n",
        "\n",
        "  real_part = cv2.bitwise_and(frame,frame,mask=fgmask)\n",
        "\n",
        "  fgmask_3 = cv2.cvtColor(fgmask, cv2.COLOR_GRAY2BGR)\n",
        "\n",
        "  stacked = np.hstack((fgmask_3,fgmask,real_part))\n",
        "  cv2.imshow('All three',cv2.resize(stacked,None,fx=0.65,fy=0.65))\n",
        "\n",
        "  k = cv2.waitKey(30) & 0xff\n",
        "  if k == 27:\n",
        "    break\n",
        "  \n",
        "cap.release()\n",
        "cv2.destroyAllWindows()"
      ],
      "metadata": {
        "id": "Ojxsf8yQjzet"
      },
      "execution_count": 14,
      "outputs": []
    },
    {
      "cell_type": "code",
      "source": [
        "video = cv2.VideoCapture('content/carsvid2.wmv')\n",
        "\n",
        "kernel = None\n",
        "\n",
        "backgroundObject = cv2.createBackgroundSubtractorMOG2(detectShadows = True)\n",
        "\n",
        "while True:\n",
        "    \n",
        "    ret, frame = video.read()\n",
        "\n",
        "    if not ret:\n",
        "        break\n",
        " \n",
        "    fgmask = backgroundObject.apply(frame)\n",
        "    \n",
        "    _, fgmask = cv2.threshold(fgmask, 250, 255, cv2.THRESH_BINARY)\n",
        "    \n",
        "    fgmask = cv2.erode(fgmask, kernel, iterations = 1)\n",
        "    fgmask = cv2.dilate(fgmask, kernel, iterations = 2)\n",
        "    \n",
        "    contours, _ = cv2.findContours(fgmask, cv2.RETR_EXTERNAL, cv2.CHAIN_APPROX_SIMPLE)\n",
        "    \n",
        "    frameCopy = frame.copy()\n",
        "    \n",
        "    for cnt in contours:\n",
        "        \n",
        "        if cv2.contourArea(cnt) > 400:\n",
        "            \n",
        "            x, y, width, height = cv2.boundingRect(cnt)\n",
        "            \n",
        "            cv2.rectangle(frameCopy, (x , y), (x + width, y + height),(0, 0, 255), 2)\n",
        "            \n",
        "            cv2.putText(frameCopy, 'Car Detected', (x, y-10), cv2.FONT_HERSHEY_SIMPLEX, 0.3, (0,255,0), 1, cv2.LINE_AA)\n",
        "    \n",
        "    foregroundPart = cv2.bitwise_and(frame, frame, mask=fgmask)\n",
        "         \n",
        "    stacked = np.hstack((frame, foregroundPart, frameCopy))\n",
        "\n",
        "    cv2.imshow('Original Frame, Extracted Foreground and Detected Cars', cv2.resize(stacked, None, fx=0.5, fy=0.5))\n",
        "    #cv2.imshow('initial Mask', initialMask)\n",
        "    #cv2.imshow('Noisy Mask', noisymask)\n",
        "    #cv2.imshow('Clean Mask', fgmask)\n",
        "    k = cv2.waitKey(1) & 0xff\n",
        "    \n",
        "    if k == ord('q'):\n",
        "        break\n",
        "\n",
        "video.release()\n",
        "\n",
        "cv2.destroyAllWindows()"
      ],
      "metadata": {
        "id": "XluiG0JOSnaV"
      },
      "execution_count": 15,
      "outputs": []
    },
    {
      "cell_type": "code",
      "source": [
        ""
      ],
      "metadata": {
        "id": "zL1O8AURmHpm"
      },
      "execution_count": null,
      "outputs": []
    }
  ]
}